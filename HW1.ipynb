{
  "nbformat": 4,
  "nbformat_minor": 0,
  "metadata": {
    "colab": {
      "name": "Untitled0.ipynb",
      "provenance": [],
      "collapsed_sections": [],
      "authorship_tag": "ABX9TyN0ukxidRBQ/+E56AWuTbY/",
      "include_colab_link": true
    },
    "kernelspec": {
      "name": "python3",
      "display_name": "Python 3"
    }
  },
  "cells": [
    {
      "cell_type": "markdown",
      "metadata": {
        "id": "view-in-github",
        "colab_type": "text"
      },
      "source": [
        "<a href=\"https://colab.research.google.com/github/cloudy-me/data-science/blob/main/HW1.ipynb\" target=\"_parent\"><img src=\"https://colab.research.google.com/assets/colab-badge.svg\" alt=\"Open In Colab\"/></a>"
      ]
    },
    {
      "cell_type": "code",
      "metadata": {
        "colab": {
          "base_uri": "https://localhost:8080/"
        },
        "id": "ebvP_wSnzx0-",
        "outputId": "5f6d6a28-7236-44f0-bcad-4fefd3209af6"
      },
      "source": [
        "import numpy as np\n",
        "a= np.array([[1,6],[2,8],[3,11],[3,10],[1,7]])\n",
        "print(a)\n",
        "mean_a=np.mean(a, axis=0)\n",
        "print(mean_a)\n",
        "\n",
        "\n"
      ],
      "execution_count": 14,
      "outputs": [
        {
          "output_type": "stream",
          "text": [
            "[[ 1  6]\n",
            " [ 2  8]\n",
            " [ 3 11]\n",
            " [ 3 10]\n",
            " [ 1  7]]\n",
            "[2.  8.4]\n"
          ],
          "name": "stdout"
        }
      ]
    },
    {
      "cell_type": "code",
      "metadata": {
        "colab": {
          "base_uri": "https://localhost:8080/"
        },
        "id": "Rv1qpYRx2gy_",
        "outputId": "d3590ae2-8a6e-4e86-adfd-f8d7f903cf06"
      },
      "source": [
        "a_centered = a-mean_a\n",
        "print(a_centered)"
      ],
      "execution_count": 8,
      "outputs": [
        {
          "output_type": "stream",
          "text": [
            "[[-1.  -2.4]\n",
            " [ 0.  -0.4]\n",
            " [ 1.   2.6]\n",
            " [ 1.   1.6]\n",
            " [-1.  -1.4]]\n"
          ],
          "name": "stdout"
        }
      ]
    },
    {
      "cell_type": "code",
      "metadata": {
        "colab": {
          "base_uri": "https://localhost:8080/"
        },
        "id": "HyvsPaTo201k",
        "outputId": "8bfca43e-b673-4591-ed82-467e586ec044"
      },
      "source": [
        "a_centered_sp=a_centered.T[0]@a_centered.T[1]\n",
        "print(a_centered_sp)\n",
        "print (a_centered_sp/(a_centered.shape[0]-1))\n"
      ],
      "execution_count": 17,
      "outputs": [
        {
          "output_type": "stream",
          "text": [
            "8.0\n",
            "2.0\n"
          ],
          "name": "stdout"
        }
      ]
    },
    {
      "cell_type": "code",
      "metadata": {
        "colab": {
          "base_uri": "https://localhost:8080/"
        },
        "id": "onqAyRKi4kpa",
        "outputId": "8e49438c-abde-40f9-d347-a8bb543e6bf9"
      },
      "source": [
        "np.cov(a.T)[0,1]\n"
      ],
      "execution_count": 18,
      "outputs": [
        {
          "output_type": "execute_result",
          "data": {
            "text/plain": [
              "2.0"
            ]
          },
          "metadata": {
            "tags": []
          },
          "execution_count": 18
        }
      ]
    },
    {
      "cell_type": "code",
      "metadata": {
        "colab": {
          "base_uri": "https://localhost:8080/"
        },
        "id": "0D_sfr_I42ZP",
        "outputId": "e0e9f870-ed10-40b7-81cb-cbb8526e802e"
      },
      "source": [
        "import pandas as pd\n",
        "authors = pd.DataFrame({\n",
        "    'author_id': [1, 2, 3],\n",
        "    'author_name': ['Тургенев', 'Чехов', 'Островский']},\n",
        "    columns=['author_id', 'author_name']\n",
        ")\n",
        "print(authors)\n",
        "\n",
        "book = pd.DataFrame ({\n",
        "    'author_id': [1, 1, 1, 2, 2, 3, 3],\n",
        "    'book_title': ['Отцы и дети', 'Рудин', 'Дворянское гнездо', 'Толстый и тонкий', 'Дама с собачкой', 'Гроза', 'Таланты и поклонники'],\n",
        "    'price':[450, 300, 350, 500, 450, 370, 290]},\n",
        "    columns=['author_id', 'book_title', 'price']\n",
        "    \n",
        ")\n",
        "print(book)"
      ],
      "execution_count": 2,
      "outputs": [
        {
          "output_type": "stream",
          "text": [
            "   author_id author_name\n",
            "0          1    Тургенев\n",
            "1          2       Чехов\n",
            "2          3  Островский\n",
            "   author_id            book_title  price\n",
            "0          1           Отцы и дети    450\n",
            "1          1                 Рудин    300\n",
            "2          1     Дворянское гнездо    350\n",
            "3          2      Толстый и тонкий    500\n",
            "4          2       Дама с собачкой    450\n",
            "5          3                 Гроза    370\n",
            "6          3  Таланты и поклонники    290\n"
          ],
          "name": "stdout"
        }
      ]
    },
    {
      "cell_type": "code",
      "metadata": {
        "colab": {
          "base_uri": "https://localhost:8080/"
        },
        "id": "7taFn3S5rRFO",
        "outputId": "0c5f497b-eb33-40da-f7ba-f9846e1a4f27"
      },
      "source": [
        "authors_price = pd.merge(authors, book, on='author_id', how='inner')\n",
        "print(authors_price)"
      ],
      "execution_count": 8,
      "outputs": [
        {
          "output_type": "stream",
          "text": [
            "   author_id author_name            book_title  price\n",
            "0          1    Тургенев           Отцы и дети    450\n",
            "1          1    Тургенев                 Рудин    300\n",
            "2          1    Тургенев     Дворянское гнездо    350\n",
            "3          2       Чехов      Толстый и тонкий    500\n",
            "4          2       Чехов       Дама с собачкой    450\n",
            "5          3  Островский                 Гроза    370\n",
            "6          3  Островский  Таланты и поклонники    290\n"
          ],
          "name": "stdout"
        }
      ]
    },
    {
      "cell_type": "code",
      "metadata": {
        "colab": {
          "base_uri": "https://localhost:8080/"
        },
        "id": "hM5nNyHzrvlp",
        "outputId": "ff272738-0ef4-4baf-fdc9-e6b16a61e97a"
      },
      "source": [
        "top_5 = authors_price.nlargest(5, 'price')\n",
        "print(top_5)\n"
      ],
      "execution_count": 9,
      "outputs": [
        {
          "output_type": "stream",
          "text": [
            "   author_id author_name         book_title  price\n",
            "3          2       Чехов   Толстый и тонкий    500\n",
            "0          1    Тургенев        Отцы и дети    450\n",
            "4          2       Чехов    Дама с собачкой    450\n",
            "5          3  Островский              Гроза    370\n",
            "2          1    Тургенев  Дворянское гнездо    350\n"
          ],
          "name": "stdout"
        }
      ]
    },
    {
      "cell_type": "code",
      "metadata": {
        "colab": {
          "base_uri": "https://localhost:8080/"
        },
        "id": "fimsTTFvsZWD",
        "outputId": "7d7848b1-ed87-49d3-d1fa-7c3eb18b082b"
      },
      "source": [
        "authors_stat = authors_price.groupby('author_name').agg({'price':['min', 'max', 'mean']})\n",
        "authors_stat = authors_stat.rename(columns={'min':'min_price', 'max':'max_price', 'mean':'mean_price'})\n",
        "print(authors_stat)\n"
      ],
      "execution_count": 11,
      "outputs": [
        {
          "output_type": "stream",
          "text": [
            "                price                      \n",
            "            min_price max_price  mean_price\n",
            "author_name                                \n",
            "Островский        290       370  330.000000\n",
            "Тургенев          300       450  366.666667\n",
            "Чехов             450       500  475.000000\n"
          ],
          "name": "stdout"
        }
      ]
    },
    {
      "cell_type": "code",
      "metadata": {
        "colab": {
          "base_uri": "https://localhost:8080/"
        },
        "id": "Em9K4mdes3UA",
        "outputId": "13a514d7-595e-4ece-bff1-85532ed0be98"
      },
      "source": [
        "authors_price['cover'] = ['твердая', 'мягкая', 'мягкая', 'твердая', 'твердая', 'мягкая', 'мягкая']\n",
        "print(authors_price)"
      ],
      "execution_count": 12,
      "outputs": [
        {
          "output_type": "stream",
          "text": [
            "   author_id author_name            book_title  price    cover\n",
            "0          1    Тургенев           Отцы и дети    450  твердая\n",
            "1          1    Тургенев                 Рудин    300   мягкая\n",
            "2          1    Тургенев     Дворянское гнездо    350   мягкая\n",
            "3          2       Чехов      Толстый и тонкий    500  твердая\n",
            "4          2       Чехов       Дама с собачкой    450  твердая\n",
            "5          3  Островский                 Гроза    370   мягкая\n",
            "6          3  Островский  Таланты и поклонники    290   мягкая\n"
          ],
          "name": "stdout"
        }
      ]
    },
    {
      "cell_type": "code",
      "metadata": {
        "colab": {
          "base_uri": "https://localhost:8080/"
        },
        "id": "oa3tg95m6jFW",
        "outputId": "77d8db8f-e724-43a2-e272-349554ca3a2e"
      },
      "source": [
        "import numpy as np\n",
        "book_info = pd.pivot_table(authors_price, values='price', index=['author_name'], columns=['cover'], aggfunc=np.sum)\n",
        "book_info['мягкая'] = book_info['мягкая'].fillna(0)\n",
        "book_info['твердая'] = book_info['твердая'].fillna(0)\n",
        "print(book_info)\n",
        "book_info.to_pickle('book_info.pkl')\n",
        "book_info2 = pd.read_pickle('book_info.pkl')\n",
        "book_info.equals(book_info2)"
      ],
      "execution_count": 16,
      "outputs": [
        {
          "output_type": "stream",
          "text": [
            "cover        мягкая  твердая\n",
            "author_name                 \n",
            "Островский    660.0      0.0\n",
            "Тургенев      650.0    450.0\n",
            "Чехов           0.0    950.0\n"
          ],
          "name": "stdout"
        },
        {
          "output_type": "execute_result",
          "data": {
            "text/plain": [
              "True"
            ]
          },
          "metadata": {
            "tags": []
          },
          "execution_count": 16
        }
      ]
    }
  ]
}